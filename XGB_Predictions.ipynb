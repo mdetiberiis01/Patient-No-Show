{
 "cells": [
  {
   "cell_type": "markdown",
   "metadata": {},
   "source": [
    "# XGB Predictions"
   ]
  },
  {
   "cell_type": "code",
   "execution_count": 1,
   "metadata": {},
   "outputs": [],
   "source": [
    "import pandas as pd\n",
    "import numpy as np\n",
    "import datetime\n",
    "\n",
    "\n",
    "from sklearn.model_selection import train_test_split\n",
    "from sklearn.model_selection import GridSearchCV\n",
    "from sklearn.preprocessing import LabelEncoder\n",
    "\n",
    "from sklearn.tree import DecisionTreeClassifier\n",
    "from sklearn.ensemble import RandomForestClassifier\n",
    "\n",
    "import matplotlib.pyplot as plt\n",
    "%matplotlib inline\n",
    "from sklearn.metrics import mean_squared_error, accuracy_score, f1_score, roc_auc_score\n",
    "import seaborn as sns\n",
    "\n",
    "from sklearn.preprocessing import MinMaxScaler, StandardScaler\n",
    "from sklearn.linear_model import Lasso, Ridge, LinearRegression\n",
    "from sklearn.model_selection import train_test_split\n",
    "from sklearn.neighbors import KNeighborsClassifier\n",
    "import matplotlib.pyplot as plt\n",
    "import seaborn as sns\n",
    "from sklearn import metrics\n",
    "\n",
    "from sklearn.preprocessing import PolynomialFeatures\n",
    "import pickle \n",
    "from sklearn.pipeline import make_pipeline\n",
    "\n",
    "pd.options.display.max_rows = 999\n",
    "pd.options.display.max_columns = 999\n"
   ]
  },
  {
   "cell_type": "code",
   "execution_count": 2,
   "metadata": {},
   "outputs": [],
   "source": [
    "df = pd.read_csv('/Users/markdetiberiis/Desktop/Patient_no_show/model_ready_data.csv')"
   ]
  },
  {
   "cell_type": "code",
   "execution_count": 3,
   "metadata": {},
   "outputs": [],
   "source": [
    "df.drop(['Unnamed: 0'],axis = 1,inplace=True)"
   ]
  },
  {
   "cell_type": "code",
   "execution_count": 72,
   "metadata": {
    "scrolled": true
   },
   "outputs": [
    {
     "data": {
      "text/html": [
       "<div>\n",
       "<style scoped>\n",
       "    .dataframe tbody tr th:only-of-type {\n",
       "        vertical-align: middle;\n",
       "    }\n",
       "\n",
       "    .dataframe tbody tr th {\n",
       "        vertical-align: top;\n",
       "    }\n",
       "\n",
       "    .dataframe thead th {\n",
       "        text-align: right;\n",
       "    }\n",
       "</style>\n",
       "<table border=\"1\" class=\"dataframe\">\n",
       "  <thead>\n",
       "    <tr style=\"text-align: right;\">\n",
       "      <th></th>\n",
       "      <th>Gender</th>\n",
       "      <th>Age</th>\n",
       "      <th>Neighbourhood</th>\n",
       "      <th>Scholarship</th>\n",
       "      <th>Hypertension</th>\n",
       "      <th>Diabetes</th>\n",
       "      <th>Alcoholism</th>\n",
       "      <th>Handicap</th>\n",
       "      <th>SMSReceived</th>\n",
       "      <th>appointment_weekday</th>\n",
       "      <th>schedule_weekday</th>\n",
       "      <th>waiting_days</th>\n",
       "      <th>schedule_date_Y</th>\n",
       "      <th>schedule_date_M</th>\n",
       "      <th>schedule_date_D</th>\n",
       "      <th>appointment_date_Y</th>\n",
       "      <th>appointment_date_M</th>\n",
       "      <th>appointment_date_D</th>\n",
       "    </tr>\n",
       "  </thead>\n",
       "  <tbody>\n",
       "    <tr>\n",
       "      <th>0</th>\n",
       "      <td>0</td>\n",
       "      <td>62</td>\n",
       "      <td>39</td>\n",
       "      <td>0</td>\n",
       "      <td>1</td>\n",
       "      <td>0</td>\n",
       "      <td>0</td>\n",
       "      <td>0</td>\n",
       "      <td>0</td>\n",
       "      <td>0</td>\n",
       "      <td>0</td>\n",
       "      <td>2</td>\n",
       "      <td>2016</td>\n",
       "      <td>4</td>\n",
       "      <td>29</td>\n",
       "      <td>2016</td>\n",
       "      <td>4</td>\n",
       "      <td>29</td>\n",
       "    </tr>\n",
       "    <tr>\n",
       "      <th>1</th>\n",
       "      <td>1</td>\n",
       "      <td>56</td>\n",
       "      <td>39</td>\n",
       "      <td>0</td>\n",
       "      <td>0</td>\n",
       "      <td>0</td>\n",
       "      <td>0</td>\n",
       "      <td>0</td>\n",
       "      <td>0</td>\n",
       "      <td>0</td>\n",
       "      <td>0</td>\n",
       "      <td>2</td>\n",
       "      <td>2016</td>\n",
       "      <td>4</td>\n",
       "      <td>29</td>\n",
       "      <td>2016</td>\n",
       "      <td>4</td>\n",
       "      <td>29</td>\n",
       "    </tr>\n",
       "    <tr>\n",
       "      <th>2</th>\n",
       "      <td>0</td>\n",
       "      <td>62</td>\n",
       "      <td>45</td>\n",
       "      <td>0</td>\n",
       "      <td>0</td>\n",
       "      <td>0</td>\n",
       "      <td>0</td>\n",
       "      <td>0</td>\n",
       "      <td>0</td>\n",
       "      <td>0</td>\n",
       "      <td>0</td>\n",
       "      <td>2</td>\n",
       "      <td>2016</td>\n",
       "      <td>4</td>\n",
       "      <td>29</td>\n",
       "      <td>2016</td>\n",
       "      <td>4</td>\n",
       "      <td>29</td>\n",
       "    </tr>\n",
       "    <tr>\n",
       "      <th>3</th>\n",
       "      <td>0</td>\n",
       "      <td>8</td>\n",
       "      <td>54</td>\n",
       "      <td>0</td>\n",
       "      <td>0</td>\n",
       "      <td>0</td>\n",
       "      <td>0</td>\n",
       "      <td>0</td>\n",
       "      <td>0</td>\n",
       "      <td>0</td>\n",
       "      <td>0</td>\n",
       "      <td>2</td>\n",
       "      <td>2016</td>\n",
       "      <td>4</td>\n",
       "      <td>29</td>\n",
       "      <td>2016</td>\n",
       "      <td>4</td>\n",
       "      <td>29</td>\n",
       "    </tr>\n",
       "    <tr>\n",
       "      <th>4</th>\n",
       "      <td>0</td>\n",
       "      <td>56</td>\n",
       "      <td>39</td>\n",
       "      <td>0</td>\n",
       "      <td>1</td>\n",
       "      <td>1</td>\n",
       "      <td>0</td>\n",
       "      <td>0</td>\n",
       "      <td>0</td>\n",
       "      <td>0</td>\n",
       "      <td>0</td>\n",
       "      <td>2</td>\n",
       "      <td>2016</td>\n",
       "      <td>4</td>\n",
       "      <td>29</td>\n",
       "      <td>2016</td>\n",
       "      <td>4</td>\n",
       "      <td>29</td>\n",
       "    </tr>\n",
       "    <tr>\n",
       "      <th>...</th>\n",
       "      <td>...</td>\n",
       "      <td>...</td>\n",
       "      <td>...</td>\n",
       "      <td>...</td>\n",
       "      <td>...</td>\n",
       "      <td>...</td>\n",
       "      <td>...</td>\n",
       "      <td>...</td>\n",
       "      <td>...</td>\n",
       "      <td>...</td>\n",
       "      <td>...</td>\n",
       "      <td>...</td>\n",
       "      <td>...</td>\n",
       "      <td>...</td>\n",
       "      <td>...</td>\n",
       "      <td>...</td>\n",
       "      <td>...</td>\n",
       "      <td>...</td>\n",
       "    </tr>\n",
       "    <tr>\n",
       "      <th>110522</th>\n",
       "      <td>0</td>\n",
       "      <td>56</td>\n",
       "      <td>43</td>\n",
       "      <td>0</td>\n",
       "      <td>0</td>\n",
       "      <td>0</td>\n",
       "      <td>0</td>\n",
       "      <td>0</td>\n",
       "      <td>1</td>\n",
       "      <td>4</td>\n",
       "      <td>4</td>\n",
       "      <td>61</td>\n",
       "      <td>2016</td>\n",
       "      <td>5</td>\n",
       "      <td>3</td>\n",
       "      <td>2016</td>\n",
       "      <td>6</td>\n",
       "      <td>7</td>\n",
       "    </tr>\n",
       "    <tr>\n",
       "      <th>110523</th>\n",
       "      <td>0</td>\n",
       "      <td>51</td>\n",
       "      <td>43</td>\n",
       "      <td>0</td>\n",
       "      <td>0</td>\n",
       "      <td>0</td>\n",
       "      <td>0</td>\n",
       "      <td>0</td>\n",
       "      <td>1</td>\n",
       "      <td>4</td>\n",
       "      <td>4</td>\n",
       "      <td>61</td>\n",
       "      <td>2016</td>\n",
       "      <td>5</td>\n",
       "      <td>3</td>\n",
       "      <td>2016</td>\n",
       "      <td>6</td>\n",
       "      <td>7</td>\n",
       "    </tr>\n",
       "    <tr>\n",
       "      <th>110524</th>\n",
       "      <td>0</td>\n",
       "      <td>21</td>\n",
       "      <td>43</td>\n",
       "      <td>0</td>\n",
       "      <td>0</td>\n",
       "      <td>0</td>\n",
       "      <td>0</td>\n",
       "      <td>0</td>\n",
       "      <td>1</td>\n",
       "      <td>4</td>\n",
       "      <td>5</td>\n",
       "      <td>68</td>\n",
       "      <td>2016</td>\n",
       "      <td>4</td>\n",
       "      <td>27</td>\n",
       "      <td>2016</td>\n",
       "      <td>6</td>\n",
       "      <td>7</td>\n",
       "    </tr>\n",
       "    <tr>\n",
       "      <th>110525</th>\n",
       "      <td>0</td>\n",
       "      <td>38</td>\n",
       "      <td>43</td>\n",
       "      <td>0</td>\n",
       "      <td>0</td>\n",
       "      <td>0</td>\n",
       "      <td>0</td>\n",
       "      <td>0</td>\n",
       "      <td>1</td>\n",
       "      <td>4</td>\n",
       "      <td>5</td>\n",
       "      <td>68</td>\n",
       "      <td>2016</td>\n",
       "      <td>4</td>\n",
       "      <td>27</td>\n",
       "      <td>2016</td>\n",
       "      <td>6</td>\n",
       "      <td>7</td>\n",
       "    </tr>\n",
       "    <tr>\n",
       "      <th>110526</th>\n",
       "      <td>0</td>\n",
       "      <td>54</td>\n",
       "      <td>43</td>\n",
       "      <td>0</td>\n",
       "      <td>0</td>\n",
       "      <td>0</td>\n",
       "      <td>0</td>\n",
       "      <td>0</td>\n",
       "      <td>1</td>\n",
       "      <td>4</td>\n",
       "      <td>5</td>\n",
       "      <td>68</td>\n",
       "      <td>2016</td>\n",
       "      <td>4</td>\n",
       "      <td>27</td>\n",
       "      <td>2016</td>\n",
       "      <td>6</td>\n",
       "      <td>7</td>\n",
       "    </tr>\n",
       "  </tbody>\n",
       "</table>\n",
       "<p>110527 rows × 18 columns</p>\n",
       "</div>"
      ],
      "text/plain": [
       "        Gender  Age  Neighbourhood  Scholarship  Hypertension  Diabetes  \\\n",
       "0            0   62             39            0             1         0   \n",
       "1            1   56             39            0             0         0   \n",
       "2            0   62             45            0             0         0   \n",
       "3            0    8             54            0             0         0   \n",
       "4            0   56             39            0             1         1   \n",
       "...        ...  ...            ...          ...           ...       ...   \n",
       "110522       0   56             43            0             0         0   \n",
       "110523       0   51             43            0             0         0   \n",
       "110524       0   21             43            0             0         0   \n",
       "110525       0   38             43            0             0         0   \n",
       "110526       0   54             43            0             0         0   \n",
       "\n",
       "        Alcoholism  Handicap  SMSReceived  appointment_weekday  \\\n",
       "0                0         0            0                    0   \n",
       "1                0         0            0                    0   \n",
       "2                0         0            0                    0   \n",
       "3                0         0            0                    0   \n",
       "4                0         0            0                    0   \n",
       "...            ...       ...          ...                  ...   \n",
       "110522           0         0            1                    4   \n",
       "110523           0         0            1                    4   \n",
       "110524           0         0            1                    4   \n",
       "110525           0         0            1                    4   \n",
       "110526           0         0            1                    4   \n",
       "\n",
       "        schedule_weekday  waiting_days  schedule_date_Y  schedule_date_M  \\\n",
       "0                      0             2             2016                4   \n",
       "1                      0             2             2016                4   \n",
       "2                      0             2             2016                4   \n",
       "3                      0             2             2016                4   \n",
       "4                      0             2             2016                4   \n",
       "...                  ...           ...              ...              ...   \n",
       "110522                 4            61             2016                5   \n",
       "110523                 4            61             2016                5   \n",
       "110524                 5            68             2016                4   \n",
       "110525                 5            68             2016                4   \n",
       "110526                 5            68             2016                4   \n",
       "\n",
       "        schedule_date_D  appointment_date_Y  appointment_date_M  \\\n",
       "0                    29                2016                   4   \n",
       "1                    29                2016                   4   \n",
       "2                    29                2016                   4   \n",
       "3                    29                2016                   4   \n",
       "4                    29                2016                   4   \n",
       "...                 ...                 ...                 ...   \n",
       "110522                3                2016                   6   \n",
       "110523                3                2016                   6   \n",
       "110524               27                2016                   6   \n",
       "110525               27                2016                   6   \n",
       "110526               27                2016                   6   \n",
       "\n",
       "        appointment_date_D  \n",
       "0                       29  \n",
       "1                       29  \n",
       "2                       29  \n",
       "3                       29  \n",
       "4                       29  \n",
       "...                    ...  \n",
       "110522                   7  \n",
       "110523                   7  \n",
       "110524                   7  \n",
       "110525                   7  \n",
       "110526                   7  \n",
       "\n",
       "[110527 rows x 18 columns]"
      ]
     },
     "execution_count": 72,
     "metadata": {},
     "output_type": "execute_result"
    }
   ],
   "source": [
    "df\n"
   ]
  },
  {
   "cell_type": "code",
   "execution_count": 5,
   "metadata": {},
   "outputs": [],
   "source": [
    "#open pickled XGB model \n",
    "\n",
    "XGB_model = open('XGB_model.pkl', 'rb')\n",
    "model = pickle.load(XGB_model)\n"
   ]
  },
  {
   "cell_type": "code",
   "execution_count": null,
   "metadata": {},
   "outputs": [],
   "source": []
  },
  {
   "cell_type": "code",
   "execution_count": 7,
   "metadata": {},
   "outputs": [],
   "source": []
  },
  {
   "cell_type": "code",
   "execution_count": 8,
   "metadata": {},
   "outputs": [],
   "source": [
    "df.drop(['NoShow'],axis = 1,inplace = True)"
   ]
  },
  {
   "cell_type": "code",
   "execution_count": 9,
   "metadata": {},
   "outputs": [],
   "source": [
    "#predict on the data \n",
    "\n",
    "final_pred = model.predict(df)"
   ]
  },
  {
   "cell_type": "code",
   "execution_count": 11,
   "metadata": {},
   "outputs": [],
   "source": [
    "#create df of predictions \n",
    "\n",
    "final_df = pd.DataFrame(final_pred)"
   ]
  },
  {
   "cell_type": "code",
   "execution_count": 16,
   "metadata": {},
   "outputs": [],
   "source": [
    "#write predictions to csv\n",
    "\n",
    "final_df.to_csv('/Users/markdetiberiis/Patient-No-Show/final_preds')"
   ]
  },
  {
   "cell_type": "code",
   "execution_count": 34,
   "metadata": {},
   "outputs": [],
   "source": [
    "final_df['Show/NoShow'] = final_df[0]"
   ]
  },
  {
   "cell_type": "code",
   "execution_count": 37,
   "metadata": {},
   "outputs": [],
   "source": [
    "final_df.drop([0],axis = 1,inplace = True)"
   ]
  },
  {
   "cell_type": "code",
   "execution_count": 39,
   "metadata": {},
   "outputs": [
    {
     "data": {
      "text/plain": [
       "0    106416\n",
       "1      4111\n",
       "Name: Show/NoShow, dtype: int64"
      ]
     },
     "execution_count": 39,
     "metadata": {},
     "output_type": "execute_result"
    }
   ],
   "source": [
    "#Show predicted show vs NoShow\n",
    "\n",
    "final_df['Show/NoShow'].value_counts()"
   ]
  },
  {
   "cell_type": "code",
   "execution_count": 41,
   "metadata": {},
   "outputs": [],
   "source": [
    "#predict by DOW\n",
    "\n",
    "df_Monday = pd.read_csv('/Users/markdetiberiis/Desktop/Patient_no_show/monday_appts')\n",
    "df_Tuesday = pd.read_csv('/Users/markdetiberiis/Desktop/Patient_no_show/tuesday_appts')\n",
    "df_Wednesday = pd.read_csv('/Users/markdetiberiis/Desktop/Patient_no_show/wednesday_appts')\n",
    "df_Thursday = pd.read_csv('/Users/markdetiberiis/Desktop/Patient_no_show/thursday_appts')\n",
    "df_Friday = pd.read_csv('/Users/markdetiberiis/Desktop/Patient_no_show/friday_appts')\n"
   ]
  },
  {
   "cell_type": "code",
   "execution_count": 45,
   "metadata": {},
   "outputs": [],
   "source": [
    "#Cleaning data \n",
    "\n",
    "df_Monday.drop(['Unnamed: 0'],axis =1, inplace = True)\n",
    "df_Tuesday.drop(['Unnamed: 0'],axis =1, inplace = True)\n",
    "df_Wednesday.drop(['Unnamed: 0'],axis =1, inplace = True)\n",
    "df_Thursday.drop(['Unnamed: 0'],axis =1, inplace = True)\n",
    "df_Friday.drop(['Unnamed: 0'],axis =1, inplace = True)"
   ]
  },
  {
   "cell_type": "code",
   "execution_count": 43,
   "metadata": {},
   "outputs": [],
   "source": [
    "df_Monday.drop(['NoShow'],axis =1, inplace = True)\n",
    "df_Tuesday.drop(['NoShow'],axis =1, inplace = True)\n",
    "df_Wednesday.drop(['NoShow'],axis =1, inplace = True)\n",
    "df_Thursday.drop(['NoShow'],axis =1, inplace = True)\n",
    "df_Friday.drop(['NoShow'],axis =1, inplace = True)"
   ]
  },
  {
   "cell_type": "code",
   "execution_count": 46,
   "metadata": {},
   "outputs": [],
   "source": [
    "#predicting by Day of Week\n",
    "\n",
    "Monday_pred = model.predict(df_Monday)\n",
    "Tuesday_pred = model.predict(df_Tuesday)\n",
    "Wednesday_pred = model.predict(df_Wednesday)\n",
    "Thursday_pred = model.predict(df_Thursday)\n",
    "Friday_pred = model.predict(df_Friday)"
   ]
  },
  {
   "cell_type": "code",
   "execution_count": 47,
   "metadata": {},
   "outputs": [],
   "source": [
    "#create df of predictions \n",
    "\n",
    "Monday_final_df = pd.DataFrame(Monday_pred)\n",
    "Tuesday_final_df = pd.DataFrame(Tuesday_pred)\n",
    "Wednesday_final_df = pd.DataFrame(Wednesday_pred)\n",
    "Thursday_final_df = pd.DataFrame(Thursday_pred)\n",
    "Friday_final_df = pd.DataFrame(Friday_pred)"
   ]
  },
  {
   "cell_type": "code",
   "execution_count": 49,
   "metadata": {},
   "outputs": [],
   "source": [
    "#write predictions to csv\n",
    "Monday_final_df.to_csv('/Users/markdetiberiis/Patient-No-Show/Monday_final_preds')\n",
    "Tuesday_final_df.to_csv('/Users/markdetiberiis/Patient-No-Show/Tuesday_final_preds')\n",
    "Wednesday_final_df.to_csv('/Users/markdetiberiis/Patient-No-Show/Wednesday_final_preds')\n",
    "Thursday_final_df.to_csv('/Users/markdetiberiis/Patient-No-Show/Thursday_final_preds')\n",
    "Friday_final_df.to_csv('/Users/markdetiberiis/Patient-No-Show/Friday_final_preds')"
   ]
  },
  {
   "cell_type": "code",
   "execution_count": 51,
   "metadata": {},
   "outputs": [],
   "source": [
    "Monday_final_df['Show/NoShow'] = Monday_final_df[0]\n",
    "Tuesday_final_df['Show/NoShow'] = Tuesday_final_df[0]\n",
    "Wednesday_final_df['Show/NoShow'] = Wednesday_final_df[0]\n",
    "Thursday_final_df['Show/NoShow'] = Thursday_final_df[0]\n",
    "Friday_final_df['Show/NoShow'] = Friday_final_df[0]"
   ]
  },
  {
   "cell_type": "code",
   "execution_count": 71,
   "metadata": {},
   "outputs": [
    {
     "name": "stdout",
     "output_type": "stream",
     "text": [
      "0    18123\n",
      "1      896\n",
      "Name: Show/NoShow, dtype: int64\n",
      "Percent No-Show: 4.943994%\n"
     ]
    }
   ],
   "source": [
    "#Monday predictions\n",
    "\n",
    "print(Monday_final_df['Show/NoShow'].value_counts())\n",
    "\n",
    "print(\"Percent No-Show: %2f%%\" % ((896/18123) *100))\n"
   ]
  },
  {
   "cell_type": "code",
   "execution_count": 70,
   "metadata": {},
   "outputs": [
    {
     "name": "stdout",
     "output_type": "stream",
     "text": [
      "0    21624\n",
      "1     1091\n",
      "Name: Show/NoShow, dtype: int64\n",
      "Percent No-Show: 5.045320%\n"
     ]
    }
   ],
   "source": [
    "#Tuesday Predictions\n",
    "\n",
    "print(Tuesday_final_df['Show/NoShow'].value_counts())\n",
    "\n",
    "print(\"Percent No-Show: %2f%%\" % ((1091/21624) *100))\n"
   ]
  },
  {
   "cell_type": "code",
   "execution_count": 69,
   "metadata": {},
   "outputs": [
    {
     "name": "stdout",
     "output_type": "stream",
     "text": [
      "0    38\n",
      "1     1\n",
      "Name: Show/NoShow, dtype: int64\n",
      "Percent No-Show: 2.631579%\n"
     ]
    }
   ],
   "source": [
    "#Wednesday Predictions\n",
    "\n",
    "print(Wednesday_final_df['Show/NoShow'].value_counts())\n",
    "\n",
    "print(\"Percent No-Show: %2f%%\" % ((1/38) *100))\n"
   ]
  },
  {
   "cell_type": "code",
   "execution_count": 68,
   "metadata": {},
   "outputs": [
    {
     "name": "stdout",
     "output_type": "stream",
     "text": [
      "0    16833\n",
      "1      414\n",
      "Name: Show/NoShow, dtype: int64\n",
      "Percent No-Show: 2.459455%\n"
     ]
    }
   ],
   "source": [
    "#Thursday Predictions\n",
    "\n",
    "print(Thursday_final_df['Show/NoShow'].value_counts())\n",
    "\n",
    "print(\"Percent No-Show: %2f%%\" % ((414/16833) * 100))\n"
   ]
  },
  {
   "cell_type": "code",
   "execution_count": 67,
   "metadata": {},
   "outputs": [
    {
     "name": "stdout",
     "output_type": "stream",
     "text": [
      "0    24695\n",
      "1      945\n",
      "Name: Show/NoShow, dtype: int64\n",
      "Percent No-Show: 3.826686%\n"
     ]
    }
   ],
   "source": [
    "#Friday Predictions\n",
    "\n",
    "print(Friday_final_df['Show/NoShow'].value_counts())\n",
    "\n",
    "print(\"Percent No-Show: %2f%%\" % ((945/24695) * 100))"
   ]
  }
 ],
 "metadata": {
  "kernelspec": {
   "display_name": "Python 3",
   "language": "python",
   "name": "python3"
  },
  "language_info": {
   "codemirror_mode": {
    "name": "ipython",
    "version": 3
   },
   "file_extension": ".py",
   "mimetype": "text/x-python",
   "name": "python",
   "nbconvert_exporter": "python",
   "pygments_lexer": "ipython3",
   "version": "3.8.3"
  }
 },
 "nbformat": 4,
 "nbformat_minor": 4
}
